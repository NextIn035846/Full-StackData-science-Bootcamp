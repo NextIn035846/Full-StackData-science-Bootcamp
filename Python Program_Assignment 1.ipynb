{
 "cells": [
  {
   "cell_type": "markdown",
   "metadata": {},
   "source": [
    "# Programming_Assignment No1"
   ]
  },
  {
   "cell_type": "markdown",
   "metadata": {},
   "source": [
    "__1. Write a Python program to print \"Hello Python\"?__"
   ]
  },
  {
   "cell_type": "code",
   "execution_count": 2,
   "metadata": {},
   "outputs": [
    {
     "name": "stdout",
     "output_type": "stream",
     "text": [
      "Hello Python\n"
     ]
    }
   ],
   "source": [
    "print(\"Hello Python\")"
   ]
  },
  {
   "cell_type": "markdown",
   "metadata": {},
   "source": [
    "__2. Write a Python program to do arithmetical operations addition and division.?__"
   ]
  },
  {
   "cell_type": "code",
   "execution_count": 3,
   "metadata": {},
   "outputs": [
    {
     "name": "stdout",
     "output_type": "stream",
     "text": [
      "Addtion of Two Number is 67\n",
      "Division of Two Number is 0.45652173913043476\n",
      "floor division of two number is  2\n"
     ]
    }
   ],
   "source": [
    "num1 = 21\n",
    "num2 = 46\n",
    "\n",
    "# Addition\n",
    "Addtion = num1+ num2\n",
    "\n",
    "#Division\n",
    "division = num1 / num2\n",
    "Floor_Division = num2//num1\n",
    "\n",
    "print(\"Addtion of Two Number is\",Addtion)\n",
    "print(\"Division of Two Number is\",division)\n",
    "print(\"floor division of two number is \",Floor_Division)"
   ]
  },
  {
   "cell_type": "markdown",
   "metadata": {},
   "source": [
    "__3. Write a Python program to find the area of a triangle?__"
   ]
  },
  {
   "cell_type": "code",
   "execution_count": 5,
   "metadata": {},
   "outputs": [
    {
     "name": "stdout",
     "output_type": "stream",
     "text": [
      "Enter the base Value 4\n",
      "Enter the hight value  3\n",
      "Area of Triangle is  6.0\n"
     ]
    }
   ],
   "source": [
    "base = int(input(\"Enter the base Value \"))\n",
    "hight = int(input(\"Enter the hight value  \"))\n",
    "Area = 0.5* base*hight\n",
    "print(\"Area of Triangle is \",Area)"
   ]
  },
  {
   "cell_type": "markdown",
   "metadata": {},
   "source": [
    "__4. Write a Python program to swap two variables?__"
   ]
  },
  {
   "cell_type": "code",
   "execution_count": 21,
   "metadata": {},
   "outputs": [
    {
     "name": "stdout",
     "output_type": "stream",
     "text": [
      "Num1 Value 46\n",
      "Num2 value 21\n"
     ]
    }
   ],
   "source": [
    "Num1 = 21\n",
    "Num2 = 46\n",
    "\n",
    "temp = Num1\n",
    "Num1 = Num2\n",
    "Num2 = temp\n",
    "\n",
    "print(\"Num1 Value\",Num1)\n",
    "print(\"Num2 value\",Num2)"
   ]
  },
  {
   "cell_type": "markdown",
   "metadata": {},
   "source": [
    "__5. Write a Python program to generate a random number?__"
   ]
  },
  {
   "cell_type": "code",
   "execution_count": 20,
   "metadata": {},
   "outputs": [
    {
     "name": "stdout",
     "output_type": "stream",
     "text": [
      "25\n"
     ]
    }
   ],
   "source": [
    "import random\n",
    "n=  random.randint(0,25)\n",
    "print(n)"
   ]
  },
  {
   "cell_type": "code",
   "execution_count": null,
   "metadata": {},
   "outputs": [],
   "source": []
  },
  {
   "cell_type": "code",
   "execution_count": null,
   "metadata": {},
   "outputs": [],
   "source": []
  }
 ],
 "metadata": {
  "kernelspec": {
   "display_name": "Python 3",
   "language": "python",
   "name": "python3"
  },
  "language_info": {
   "codemirror_mode": {
    "name": "ipython",
    "version": 3
   },
   "file_extension": ".py",
   "mimetype": "text/x-python",
   "name": "python",
   "nbconvert_exporter": "python",
   "pygments_lexer": "ipython3",
   "version": "3.8.2"
  }
 },
 "nbformat": 4,
 "nbformat_minor": 4
}
