{
 "cells": [
  {
   "cell_type": "markdown",
   "metadata": {},
   "source": [
    "## Python Programming Assignment"
   ]
  },
  {
   "cell_type": "markdown",
   "metadata": {},
   "source": [
    "__1. Write a Python Program to Find the Factorial of a Number?__"
   ]
  },
  {
   "cell_type": "code",
   "execution_count": 4,
   "metadata": {},
   "outputs": [
    {
     "name": "stdout",
     "output_type": "stream",
     "text": [
      "Enter the Numbers5\n",
      "5 factorial is  120\n"
     ]
    }
   ],
   "source": [
    "num = int(input(\"Enter the Numbers\"))\n",
    "\n",
    "if num < 0:\n",
    "    print(f\"{num} factorial is \",0)\n",
    "elif num == 0 or num == 1:\n",
    "    print(f\"{num} factorial is \",1)\n",
    "else:\n",
    "    value =1\n",
    "    for i in range(1,num+1):\n",
    "        value = value *i\n",
    "    print(f\"{num} factorial is \",value)\n",
    "        "
   ]
  },
  {
   "cell_type": "markdown",
   "metadata": {},
   "source": [
    "__2. Write a Python Program to Display the multiplication Table?__"
   ]
  },
  {
   "cell_type": "code",
   "execution_count": 6,
   "metadata": {},
   "outputs": [
    {
     "name": "stdout",
     "output_type": "stream",
     "text": [
      "Enter the Table number5\n",
      "5 * 1 = 5\n",
      "5 * 2 = 10\n",
      "5 * 3 = 15\n",
      "5 * 4 = 20\n",
      "5 * 5 = 25\n",
      "5 * 6 = 30\n",
      "5 * 7 = 35\n",
      "5 * 8 = 40\n",
      "5 * 9 = 45\n",
      "5 * 10 = 50\n"
     ]
    }
   ],
   "source": [
    "table = int(input(\"Enter the Table number\"))\n",
    "\n",
    "for i in range(1,11):\n",
    "    print(f\"{table} * {i} = {table * i}\")"
   ]
  },
  {
   "cell_type": "markdown",
   "metadata": {},
   "source": [
    "__3. Write a Python Program to Print the Fibonacci sequence?__"
   ]
  },
  {
   "cell_type": "code",
   "execution_count": 9,
   "metadata": {},
   "outputs": [
    {
     "name": "stdout",
     "output_type": "stream",
     "text": [
      "Enter the number9\n",
      "34\n"
     ]
    }
   ],
   "source": [
    "def Fibonouse(n):\n",
    "    if n<0 :\n",
    "        print(\"Enter the Postive number\")\n",
    "    elif n == 0:\n",
    "        return 0\n",
    "    elif n==1 or n==2 :\n",
    "        return 1\n",
    "    else:\n",
    "        return Fibonouse(n-1) + Fibonouse(n-2)\n",
    "num = int(input(\"Enter the number\"))\n",
    "value = Fibonouse(num)\n",
    "\n",
    "print(value)\n",
    "    "
   ]
  },
  {
   "cell_type": "markdown",
   "metadata": {},
   "source": [
    "__4. Write a Python Program to Check Armstrong Number?__"
   ]
  },
  {
   "cell_type": "code",
   "execution_count": 13,
   "metadata": {},
   "outputs": [
    {
     "data": {
      "text/plain": [
       "2"
      ]
     },
     "execution_count": 13,
     "metadata": {},
     "output_type": "execute_result"
    }
   ],
   "source": [
    "len(str(23))\n"
   ]
  },
  {
   "cell_type": "code",
   "execution_count": 19,
   "metadata": {},
   "outputs": [
    {
     "name": "stdout",
     "output_type": "stream",
     "text": [
      "Enter the number153\n",
      "Enter Number is armstrong Number\n"
     ]
    }
   ],
   "source": [
    "num = int(input(\"Enter the number\"))\n",
    "power = len(str(num))\n",
    "arm = 0\n",
    "i = num\n",
    "while(num> 0):\n",
    "    value = num % 10\n",
    "    arm = value ** power + arm \n",
    "    num = num //10\n",
    "    \n",
    "if i == arm:\n",
    "    print(\"Enter Number is armstrong Number\")\n",
    "else:\n",
    "    print(\"Enter number is not armstrong number\")"
   ]
  },
  {
   "cell_type": "markdown",
   "metadata": {},
   "source": [
    "__6. Write a Python Program to Find the Sum of Natural Numbers?__"
   ]
  },
  {
   "cell_type": "code",
   "execution_count": 22,
   "metadata": {},
   "outputs": [
    {
     "name": "stdout",
     "output_type": "stream",
     "text": [
      "Enter the Number11\n",
      "Sum of the naturanl number is 66.0\n"
     ]
    }
   ],
   "source": [
    "num = int(input(\"Enter the Number\"))\n",
    "print(f\"Sum of the naturanl number is {(num *(num +1))/2}\")"
   ]
  },
  {
   "cell_type": "code",
   "execution_count": null,
   "metadata": {},
   "outputs": [],
   "source": []
  }
 ],
 "metadata": {
  "kernelspec": {
   "display_name": "Python 3",
   "language": "python",
   "name": "python3"
  },
  "language_info": {
   "codemirror_mode": {
    "name": "ipython",
    "version": 3
   },
   "file_extension": ".py",
   "mimetype": "text/x-python",
   "name": "python",
   "nbconvert_exporter": "python",
   "pygments_lexer": "ipython3",
   "version": "3.8.2"
  }
 },
 "nbformat": 4,
 "nbformat_minor": 4
}
