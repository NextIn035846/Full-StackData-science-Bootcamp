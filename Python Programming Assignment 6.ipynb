{
 "cells": [
  {
   "cell_type": "markdown",
   "metadata": {},
   "source": [
    "## Python Programming Assignment 6"
   ]
  },
  {
   "cell_type": "markdown",
   "metadata": {},
   "source": [
    "__1. Write a Python Program to Display Fibonacci Sequence Using Recursion?__"
   ]
  },
  {
   "cell_type": "code",
   "execution_count": 4,
   "metadata": {},
   "outputs": [
    {
     "name": "stdout",
     "output_type": "stream",
     "text": [
      "Enter the Number7\n",
      "Fibonacci 7 is 13\n"
     ]
    }
   ],
   "source": [
    "def Fibonouse(num):\n",
    "    if num < 0:\n",
    "        print(\"Enter the Postive Numbers\")\n",
    "    elif num == 0:\n",
    "        return 0\n",
    "    elif num == 1 or num == 2:\n",
    "        return 1\n",
    "    else:\n",
    "        return( Fibonouse(num-1)+Fibonouse(num-2))\n",
    "num1 = int(input(\"Enter the Number\"))\n",
    "value = Fibonouse(num1)\n",
    "print(f\"Fibonacci {num1} is {value}\")"
   ]
  },
  {
   "cell_type": "markdown",
   "metadata": {},
   "source": [
    "__2. Write a Python Program to Find Factorial of Number Using Recursion?__"
   ]
  },
  {
   "cell_type": "code",
   "execution_count": 8,
   "metadata": {},
   "outputs": [
    {
     "name": "stdout",
     "output_type": "stream",
     "text": [
      "Enter the number 5\n",
      "Factorial 5 is 120 \n"
     ]
    }
   ],
   "source": [
    "def Factorial(num):\n",
    "    if num < 0:\n",
    "        print(\"Enter the Postive Number\")\n",
    "    elif num == 0:\n",
    "        return 1\n",
    "    else:\n",
    "        return num* Factorial(num -1)\n",
    "num1 = int(input(\"Enter the number \"))\n",
    "value = Factorial(num1)\n",
    "print(f\"Factorial {num1} is {value} \")"
   ]
  },
  {
   "cell_type": "code",
   "execution_count": 9,
   "metadata": {},
   "outputs": [
    {
     "name": "stdout",
     "output_type": "stream",
     "text": [
      "Enter the Weight in KG50\n",
      "Enter the Hight in Meter156\n",
      "your Body mass index is 0.00205456936226167\n"
     ]
    }
   ],
   "source": [
    "def Body_Index(Weight,Hight): \n",
    "    return (Weight /(Hight ** 2))\n",
    "weight = float(input(\"Enter the Weight in KG\"))\n",
    "hight = float(input(\"Enter the Hight in Meter\"))\n",
    "\n",
    "print(f\"your Body mass index is {Body_Index(weight,hight)}\")\n"
   ]
  },
  {
   "cell_type": "markdown",
   "metadata": {},
   "source": [
    "__4. Write a Python Program to calculate the natural logarithm of any number?__"
   ]
  },
  {
   "cell_type": "code",
   "execution_count": 13,
   "metadata": {},
   "outputs": [
    {
     "name": "stdout",
     "output_type": "stream",
     "text": [
      "Enter the number25\n",
      "Natural Log of 25.0 is 3.2188758248682006\n"
     ]
    }
   ],
   "source": [
    "import math\n",
    "num1 = float(input(\"Enter the number\"))\n",
    "if num1 <= 0:\n",
    "    print(\"Enter Any Natural Nnumber\")\n",
    "else:\n",
    "    print(f\"Natural Log of {num1} is {math.log(num1)}\")\n",
    "    "
   ]
  },
  {
   "cell_type": "markdown",
   "metadata": {},
   "source": [
    "__5. Write a Python Program for cube sum of first n natural numbers?__"
   ]
  },
  {
   "cell_type": "code",
   "execution_count": 16,
   "metadata": {},
   "outputs": [
    {
     "name": "stdout",
     "output_type": "stream",
     "text": [
      "Enter the Natural number3\n",
      "Sum of cube of 3 is 36.0\n"
     ]
    }
   ],
   "source": [
    "Num1 = int(input(\"Enter the Natural number\"))\n",
    "sumNa = ((Num1 ** 2)*(Num1 + 1)**2) / 4\n",
    "print(f\"Sum of cube of {Num1} is {sumNa}\")"
   ]
  },
  {
   "cell_type": "code",
   "execution_count": null,
   "metadata": {},
   "outputs": [],
   "source": []
  }
 ],
 "metadata": {
  "kernelspec": {
   "display_name": "Python 3",
   "language": "python",
   "name": "python3"
  },
  "language_info": {
   "codemirror_mode": {
    "name": "ipython",
    "version": 3
   },
   "file_extension": ".py",
   "mimetype": "text/x-python",
   "name": "python",
   "nbconvert_exporter": "python",
   "pygments_lexer": "ipython3",
   "version": "3.8.2"
  }
 },
 "nbformat": 4,
 "nbformat_minor": 4
}
