{
 "cells": [
  {
   "cell_type": "markdown",
   "metadata": {},
   "source": [
    "# Python Assignment 1"
   ]
  },
  {
   "cell_type": "markdown",
   "metadata": {},
   "source": [
    "__1. In the below elements which of them are values or an expression? eg:- values can be\n",
    "integer or string and expressions will be mathematical operators.__<br>\n",
    "<br>\n",
    "*\n",
    "<br>\n",
    "hello\n",
    "<br>\n",
    " -87.8\n",
    "<br>\n",
    "-\n",
    "<br>\n",
    "/\n",
    "<br>\n",
    "+\n",
    "<br>\n",
    "6"
   ]
  },
  {
   "cell_type": "markdown",
   "metadata": {},
   "source": [
    "## Answer:\n",
    "### Values:\n",
    "- 'hello'\n",
    "- -87.8\n",
    "- 6\n",
    "\n",
    "### Expressions:\n",
    "- *\n",
    "- -\n",
    "- /\n",
    "- +\n",
    "\n"
   ]
  },
  {
   "cell_type": "markdown",
   "metadata": {},
   "source": [
    "__2. What is the difference between string and variable?__"
   ]
  },
  {
   "cell_type": "markdown",
   "metadata": {},
   "source": [
    "### Variables:\n",
    "- variable as an identifier to store a value in a memory location and manipulated if it needed\n",
    "- To Creat a variable you just assign it a value and then start using it. assignment is done with a single equals sing(=)\n",
    "\n"
   ]
  },
  {
   "cell_type": "code",
   "execution_count": 5,
   "metadata": {},
   "outputs": [
    {
     "name": "stdout",
     "output_type": "stream",
     "text": [
      "300\n"
     ]
    }
   ],
   "source": [
    "N = 300\n",
    "#Here N Is Vaiable\n",
    "print(N)"
   ]
  },
  {
   "cell_type": "markdown",
   "metadata": {},
   "source": [
    "### String:\n",
    "- Anything you assign to varidable using single or double quotes will be considered as a string\n",
    "- Python string are immutable whcih mean they cannot be changed after they are created."
   ]
  },
  {
   "cell_type": "code",
   "execution_count": 8,
   "metadata": {},
   "outputs": [
    {
     "data": {
      "text/plain": [
       "'Hello word'"
      ]
     },
     "execution_count": 8,
     "metadata": {},
     "output_type": "execute_result"
    }
   ],
   "source": [
    "#This are the String\n",
    "'Hello word'"
   ]
  },
  {
   "cell_type": "code",
   "execution_count": 9,
   "metadata": {},
   "outputs": [
    {
     "data": {
      "text/plain": [
       "'MY name is Thomas'"
      ]
     },
     "execution_count": 9,
     "metadata": {},
     "output_type": "execute_result"
    }
   ],
   "source": [
    "\"MY name is Thomas\""
   ]
  },
  {
   "cell_type": "markdown",
   "metadata": {},
   "source": [
    "__3. Describe three different data types.__"
   ]
  },
  {
   "cell_type": "markdown",
   "metadata": {},
   "source": [
    "### Python Data Types\n",
    "- Numbers\n",
    "- String\n",
    "- Boolen"
   ]
  },
  {
   "cell_type": "markdown",
   "metadata": {},
   "source": [
    "### Number:\n",
    "__Number stored numeric values. The Interger, Float and Complex values belong to Python Numbers Data Type.__\n",
    "- __int:__ Integer is whole number, Postive or nagative without decimal and there is no Limit to how long an integer value can be\n",
    "- __Float:__ Floating point Number is a number postive or nagative and it containing one or more deciamls\n",
    "- __Complex:__ A Complex number contains an order pair i.e x + iy where x Denote the Real Parts and y Denotes the imaginary parts But In Python for Reprsenting the imaginary party we written  a 'j'"
   ]
  },
  {
   "cell_type": "code",
   "execution_count": 1,
   "metadata": {},
   "outputs": [
    {
     "name": "stdout",
     "output_type": "stream",
     "text": [
      "<class 'int'>\n"
     ]
    }
   ],
   "source": [
    "# Interger\n",
    "Num1 = 390\n",
    "print(type(Num1))\n"
   ]
  },
  {
   "cell_type": "code",
   "execution_count": 2,
   "metadata": {},
   "outputs": [
    {
     "name": "stdout",
     "output_type": "stream",
     "text": [
      "<class 'float'>\n"
     ]
    }
   ],
   "source": [
    "#Floating point Number\n",
    "Num2 = 34.233\n",
    "#type of variable\n",
    "print(type(Num2))"
   ]
  },
  {
   "cell_type": "code",
   "execution_count": 9,
   "metadata": {},
   "outputs": [
    {
     "name": "stdout",
     "output_type": "stream",
     "text": [
      "<class 'complex'>\n"
     ]
    }
   ],
   "source": [
    "#complex Number\n",
    "Num3 = 3 + 5j\n",
    "print(type(Num3))"
   ]
  },
  {
   "cell_type": "markdown",
   "metadata": {},
   "source": [
    "### 2. Boolean\n",
    "__Boolean type provides two built- in value True and False.These values are used to determine the given statement true or false it denotes by the bool class__"
   ]
  },
  {
   "cell_type": "code",
   "execution_count": 12,
   "metadata": {},
   "outputs": [
    {
     "name": "stdout",
     "output_type": "stream",
     "text": [
      "<class 'bool'>\n",
      "<class 'bool'>\n"
     ]
    }
   ],
   "source": [
    "# Boolen\n",
    "A = True\n",
    "B = False\n",
    "print(type(A))\n",
    "print(type(B))"
   ]
  },
  {
   "cell_type": "markdown",
   "metadata": {},
   "source": [
    "### 3. String :\n",
    "__The String can be defined as the Sequence of characters represented in the quotation marks in Python we can use single, double or Tripl quotes to define a string. To Concatenate the Two string a we can use + .__"
   ]
  },
  {
   "cell_type": "code",
   "execution_count": 13,
   "metadata": {},
   "outputs": [
    {
     "name": "stdout",
     "output_type": "stream",
     "text": [
      "<class 'str'>\n"
     ]
    }
   ],
   "source": [
    "Value = \"Hello iNeuron Team\"\n",
    "print(type(Value))"
   ]
  },
  {
   "cell_type": "markdown",
   "metadata": {},
   "source": [
    "__4.What is an expression made up of? What do all expressions do?__"
   ]
  },
  {
   "cell_type": "markdown",
   "metadata": {},
   "source": [
    "__An expression is a combination of operators and operands that is interpreted to produce some other value. In  programming language, an expression is evaluated as per the precedence of its operators. So that if there is more than one operator in an expression, their precedence decides which operation will be performed first.<br>\n",
    "There are three kind of expressions:__\n",
    "- An Arithmetic expression evaluates to single arithmetic value.\n",
    "- A character Expression Evaluates to a single value of type character.\n",
    "- A Logical or Relational Expression evaluates to single logical value.\n",
    "\n",
    "__The Operators indicate what action or operation to perform.__\n",
    "\n",
    "__The operands indicate what item to apply the action to. An operand can be  any of the following kind of data :__\n",
    "- constant\n",
    "- variable\n",
    "- funcation\n",
    "- substring\n",
    "\n"
   ]
  },
  {
   "cell_type": "code",
   "execution_count": 1,
   "metadata": {},
   "outputs": [
    {
     "name": "stdout",
     "output_type": "stream",
     "text": [
      "sum of two number is  52\n",
      "product of two number of  667\n"
     ]
    }
   ],
   "source": [
    "#Arithmetic Expressions\n",
    "num1 = 29\n",
    "num2 = 23\n",
    "\n",
    "add = num1 + num2\n",
    "mult = num1* num2\n",
    "print(\"sum of two number is \",add)\n",
    "print(\"product of two number of \",mult)"
   ]
  },
  {
   "cell_type": "code",
   "execution_count": 2,
   "metadata": {},
   "outputs": [],
   "source": [
    "#character Expression \n",
    "char = 'T'\n",
    "Char = 'H'"
   ]
  },
  {
   "cell_type": "code",
   "execution_count": 3,
   "metadata": {},
   "outputs": [
    {
     "name": "stdout",
     "output_type": "stream",
     "text": [
      "False\n",
      "True\n"
     ]
    }
   ],
   "source": [
    "# logical Expression\n",
    "p = (23 == 6)\n",
    "T = (7>6)\n",
    "R = p and T\n",
    "Q = T or p\n",
    "print(R)\n",
    "print(Q)"
   ]
  },
  {
   "cell_type": "markdown",
   "metadata": {},
   "source": [
    "__5. This assignment statements, like spam = 10. What is the difference between an expression and a statement?__"
   ]
  },
  {
   "cell_type": "markdown",
   "metadata": {},
   "source": [
    "### Expression:\n",
    "__An Expression is a sequence or combination of values, variables,operators and funcation call that always produced or returns a result value.__\n",
    "\n",
    "Example: X= 5, y= 3 ,z = x+ y \n",
    "\n",
    "In the above example x,y and z are variables 5 and 3 are values, = and + operators.SO the First combination x= 5 is an expression the second combination y= 3 is an another expression and at last z= x+y is also an expression.\n",
    "- The Evaluation of an expression does not changes state and produces at least one value as a result\n",
    "- The evaluated result either return to a funcation call or displays at the python prompt\n",
    "- A Value or a Variable all by iteself is also considerd an expression, because these always evaluates to itslef\n",
    "\n",
    "### Statement:\n",
    "__Any instruction that python interprter can execute is called a Statement.\n",
    "A Statement is the smallest executable uint of code that has an effect like creating a variable or displaying a value Each and every line of code that we written in any programming language is called a statement Because all the line are ececutable by the interpreter or compiler of that programming language.__\n",
    "\n",
    "What does mean by instrucation?\n",
    "\n",
    "An Instruction is an order/command given to a computer processor by a computer program to perform some mathematical or logical manipulations\n",
    "- The execution of a statement changes state\n",
    "- Execution of a statement may or may not produces or display a result value, it only does whatever the statement says."
   ]
  },
  {
   "cell_type": "markdown",
   "metadata": {},
   "source": [
    "__6. After running the following code, what does the variable bacon contain?\n",
    "bacon = 22\n",
    "bacon + 1__\n"
   ]
  },
  {
   "cell_type": "markdown",
   "metadata": {},
   "source": [
    "### Answer:"
   ]
  },
  {
   "cell_type": "code",
   "execution_count": 1,
   "metadata": {},
   "outputs": [
    {
     "name": "stdout",
     "output_type": "stream",
     "text": [
      "22\n"
     ]
    }
   ],
   "source": [
    "bacon = 22\n",
    "bacon + 1\n",
    "print(bacon)"
   ]
  },
  {
   "cell_type": "markdown",
   "metadata": {},
   "source": [
    "__7. What should the values of the following two terms be?\n",
    "\"spam\" + 'spamspam'\n",
    "'spam'* 3__"
   ]
  },
  {
   "cell_type": "markdown",
   "metadata": {},
   "source": [
    "### Answer:"
   ]
  },
  {
   "cell_type": "code",
   "execution_count": 2,
   "metadata": {},
   "outputs": [
    {
     "data": {
      "text/plain": [
       "'spamspamspam'"
      ]
     },
     "execution_count": 2,
     "metadata": {},
     "output_type": "execute_result"
    }
   ],
   "source": [
    "'spam'+'spamspam'"
   ]
  },
  {
   "cell_type": "code",
   "execution_count": 3,
   "metadata": {},
   "outputs": [
    {
     "data": {
      "text/plain": [
       "'spamspamspam'"
      ]
     },
     "execution_count": 3,
     "metadata": {},
     "output_type": "execute_result"
    }
   ],
   "source": [
    "'spam'*3"
   ]
  },
  {
   "cell_type": "markdown",
   "metadata": {},
   "source": [
    "__8. Why is eggs a valid variable name while 100 is invalid?__"
   ]
  },
  {
   "cell_type": "markdown",
   "metadata": {},
   "source": [
    "__A variable name and an identifier can consist of the uppercase letters \"A\" through \"Z\", the lowercase letters \"a\" through \"z\", the underscore _ and, except for the first character, the digits 0 through 9. Python 3.x is based on Unicode. That is, variable names and identifier names can additionally contain Unicode characters as well.__\n",
    "\n",
    "Here eggs is valid becuse of it satisfy the above condtion. which is eggs is consistes of lower case and first character does not start with number. but in the second example 100 does not follow the condition and also first charater is start with number so that why this is invalid."
   ]
  },
  {
   "cell_type": "markdown",
   "metadata": {},
   "source": [
    "__9. What three functions can be used to get the integer, floating-point number, or stringversion of a value?__\n",
    "\n",
    "The int(), float(), and str() functions will evaluate to the integer, floating-point number, and string versions of the value passed to them.\n",
    "\n"
   ]
  },
  {
   "cell_type": "markdown",
   "metadata": {},
   "source": [
    "__10. Why does this expression cause an error? How can you fix it?\n",
    "'I have eaten' + 99 +  'burritos'__\n",
    "\n",
    "Answer:\n",
    " This error occurs when you try adding (concatenating) an integer to a string\n",
    " 99 is the interger values and rest of the value is string and we can not cocatenating so to fix this bug you should be convert 99 into string "
   ]
  },
  {
   "cell_type": "code",
   "execution_count": 6,
   "metadata": {},
   "outputs": [
    {
     "data": {
      "text/plain": [
       "'i have eaten 99 Burritons'"
      ]
     },
     "execution_count": 6,
     "metadata": {},
     "output_type": "execute_result"
    }
   ],
   "source": [
    "'i have eaten ' + str(99) + ' Burritons'"
   ]
  }
 ],
 "metadata": {
  "kernelspec": {
   "display_name": "Python 3",
   "language": "python",
   "name": "python3"
  },
  "language_info": {
   "codemirror_mode": {
    "name": "ipython",
    "version": 3
   },
   "file_extension": ".py",
   "mimetype": "text/x-python",
   "name": "python",
   "nbconvert_exporter": "python",
   "pygments_lexer": "ipython3",
   "version": "3.8.2"
  }
 },
 "nbformat": 4,
 "nbformat_minor": 4
}
