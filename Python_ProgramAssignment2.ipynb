{
 "cells": [
  {
   "cell_type": "markdown",
   "metadata": {},
   "source": [
    "# Python Programming Assignment"
   ]
  },
  {
   "cell_type": "markdown",
   "metadata": {},
   "source": [
    "__1. Write a Python program to convert kilometers to miles?__"
   ]
  },
  {
   "cell_type": "code",
   "execution_count": 1,
   "metadata": {},
   "outputs": [
    {
     "name": "stdout",
     "output_type": "stream",
     "text": [
      "Please Enter the speed of car in Killometers13\n",
      "The speed of car in Miles is  8.07781\n"
     ]
    }
   ],
   "source": [
    "kilometers = float(input(\"Please Enter the speed of car in Killometers\"))\n",
    "miles = kilometers * 0.62137\n",
    "\n",
    "print(\"The speed of car in Miles is \",miles)"
   ]
  },
  {
   "cell_type": "markdown",
   "metadata": {},
   "source": [
    "__2. Write a Python program to convert Celsius to Fahrenheit?__"
   ]
  },
  {
   "cell_type": "code",
   "execution_count": 2,
   "metadata": {},
   "outputs": [
    {
     "name": "stdout",
     "output_type": "stream",
     "text": [
      "Enter the Temperature value in degree celsius37.5\n",
      "37.5 degree clesius is equal to 99.5 degree Fahrenheit\n"
     ]
    }
   ],
   "source": [
    "Celsius = float(input(\"Enter the Temperature value in degree celsius\"))\n",
    "faharenheit = (Celsius * 1.8) + 32\n",
    "print(f\"{Celsius} degree clesius is equal to {faharenheit} degree Fahrenheit\")"
   ]
  },
  {
   "cell_type": "markdown",
   "metadata": {},
   "source": [
    "__3. Write a Python program to display calendar?__"
   ]
  },
  {
   "cell_type": "code",
   "execution_count": 4,
   "metadata": {},
   "outputs": [
    {
     "name": "stdout",
     "output_type": "stream",
     "text": [
      "Enter the year2022\n",
      "Enter the month5\n",
      "      May 2022\n",
      "Mo Tu We Th Fr Sa Su\n",
      "                   1\n",
      " 2  3  4  5  6  7  8\n",
      " 9 10 11 12 13 14 15\n",
      "16 17 18 19 20 21 22\n",
      "23 24 25 26 27 28 29\n",
      "30 31\n",
      "\n"
     ]
    }
   ],
   "source": [
    "import calendar\n",
    "yy = int(input(\"Enter the year\"))\n",
    "mm = int(input(\"Enter the month\"))\n",
    "\n",
    "print(calendar.month(yy,mm))"
   ]
  },
  {
   "cell_type": "markdown",
   "metadata": {},
   "source": [
    "__4. Write a Python program to solve quadratic equation?__"
   ]
  },
  {
   "cell_type": "code",
   "execution_count": 9,
   "metadata": {},
   "outputs": [
    {
     "name": "stdout",
     "output_type": "stream",
     "text": [
      "The root are \n",
      "-3.414213562373095\n",
      "-0.5857864376269049\n"
     ]
    }
   ],
   "source": [
    "import math\n",
    "a= 1\n",
    "b= 4\n",
    "c= 2\n",
    "\n",
    "dis = (b**2)-(4 * a*c)\n",
    "\n",
    "root1 = (-b - math.sqrt(dis))/(2*a)\n",
    "root2 =(-b + math.sqrt(dis))/(2*a)\n",
    "\n",
    "print(\"The root are \")\n",
    "print(root1)\n",
    "print(root2)"
   ]
  },
  {
   "cell_type": "markdown",
   "metadata": {},
   "source": [
    "__5. Write a Python program to swap two variables without temp variable?__"
   ]
  },
  {
   "cell_type": "code",
   "execution_count": 10,
   "metadata": {},
   "outputs": [
    {
     "name": "stdout",
     "output_type": "stream",
     "text": [
      "Enter the First Number16\n",
      "Enter the Second Number35\n",
      "First number is  35\n",
      "Second number is 16\n"
     ]
    }
   ],
   "source": [
    "num1 = int(input(\"Enter the First Number\"))\n",
    "num2 = int(input(\"Enter the Second Number\"))\n",
    "\n",
    "num1 = num1 +num2\n",
    "num2 =num1 -num2\n",
    "num1 =num1 -num2\n",
    "\n",
    "print(\"First number is \",num1)\n",
    "print(\"Second number is\",num2)"
   ]
  },
  {
   "cell_type": "code",
   "execution_count": null,
   "metadata": {},
   "outputs": [],
   "source": []
  }
 ],
 "metadata": {
  "kernelspec": {
   "display_name": "Python 3",
   "language": "python",
   "name": "python3"
  },
  "language_info": {
   "codemirror_mode": {
    "name": "ipython",
    "version": 3
   },
   "file_extension": ".py",
   "mimetype": "text/x-python",
   "name": "python",
   "nbconvert_exporter": "python",
   "pygments_lexer": "ipython3",
   "version": "3.8.2"
  }
 },
 "nbformat": 4,
 "nbformat_minor": 4
}
