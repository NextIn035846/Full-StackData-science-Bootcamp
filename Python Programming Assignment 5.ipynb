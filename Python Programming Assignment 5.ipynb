{
 "cells": [
  {
   "cell_type": "markdown",
   "metadata": {},
   "source": [
    "## Python Programming"
   ]
  },
  {
   "cell_type": "markdown",
   "metadata": {},
   "source": [
    "__1. Write a Python Program to Find LCM?__"
   ]
  },
  {
   "cell_type": "code",
   "execution_count": 3,
   "metadata": {},
   "outputs": [
    {
     "name": "stdout",
     "output_type": "stream",
     "text": [
      "Enter the first Number12\n",
      "Enter the second Number15\n",
      "LCM of 12 and 15 is 60\n"
     ]
    }
   ],
   "source": [
    "num1 = int(input(\"Enter the first Number\"))\n",
    "num2 = int(input(\"Enter the second Number\"))\n",
    "\n",
    "maxNum =max(num1,num2)\n",
    "value = maxNum\n",
    "while(True):\n",
    "    if(maxNum%num1 ==0 and maxNum%num2== 0):\n",
    "        break\n",
    "    maxNum = maxNum + value\n",
    "    \n",
    "print(f\"LCM of {num1} and {num2} is {maxNum}\")"
   ]
  },
  {
   "cell_type": "markdown",
   "metadata": {},
   "source": [
    "__2. Write a Python Program to Find HCF?__"
   ]
  },
  {
   "cell_type": "code",
   "execution_count": 6,
   "metadata": {},
   "outputs": [
    {
     "name": "stdout",
     "output_type": "stream",
     "text": [
      "Enter the first Number 18\n",
      "Enter the second Number 24\n",
      "HCF of 18 and 24 is 6\n"
     ]
    }
   ],
   "source": [
    "import math\n",
    "num1 = int(input(\"Enter the first Number \"))\n",
    "num2 = int(input(\"Enter the second Number \"))\n",
    "print(f\"HCF of {num1} and {num2} is {math.gcd(num1,num2)}\")"
   ]
  },
  {
   "cell_type": "markdown",
   "metadata": {},
   "source": [
    "__3. Write a Python Program to Convert Decimal to Binary, Octal and Hexadecimal?__"
   ]
  },
  {
   "cell_type": "code",
   "execution_count": 1,
   "metadata": {},
   "outputs": [
    {
     "name": "stdout",
     "output_type": "stream",
     "text": [
      "Enter the decimal number13\n",
      "Decimal Number 13\n",
      "Binary Number 1101\n",
      "Octal Number 15\n",
      "Hexadecimal number d\n"
     ]
    }
   ],
   "source": [
    "num1 = int(input(\"Enter the decimal number\"))\n",
    "print(f\"Decimal Number {num1}\")\n",
    "print(f\"Binary Number {bin(num1)[2:]}\")\n",
    "print(f\"Octal Number {oct(num1)[2:]}\")\n",
    "print(f\"Hexadecimal number {hex(num1)[2:]}\")"
   ]
  },
  {
   "cell_type": "markdown",
   "metadata": {},
   "source": [
    "__4. Write a Python Program To Find ASCII value of a character?__"
   ]
  },
  {
   "cell_type": "code",
   "execution_count": 12,
   "metadata": {},
   "outputs": [
    {
     "name": "stdout",
     "output_type": "stream",
     "text": [
      "The ASCII value of T is 84 \n"
     ]
    }
   ],
   "source": [
    "char = 'T'\n",
    "print(f\"The ASCII value of {char} is {ord(char)} \")"
   ]
  },
  {
   "cell_type": "markdown",
   "metadata": {},
   "source": [
    "__5. Write a Python Program to Make a Simple Calculator with 4 basic mathematical operations?__"
   ]
  },
  {
   "cell_type": "code",
   "execution_count": 14,
   "metadata": {},
   "outputs": [
    {
     "name": "stdout",
     "output_type": "stream",
     "text": [
      "Enter the first number13\n",
      "Enter the second number56\n",
      "Addtion of Two Number is 69\n",
      "Subtraction of Two Number is -43\n",
      "Multiplication of Two Number is 728\n",
      "Division of Two Number is 0.23214285714285715\n"
     ]
    }
   ],
   "source": [
    "num1 = int(input(\"Enter the first number\"))\n",
    "num2 = int(input(\"Enter the second number\"))\n",
    "\n",
    "# addition\n",
    "add = num1 + num2\n",
    "#subtraction\n",
    "Sub = num1 - num2\n",
    "#multiplaction\n",
    "mult = num1 * num2\n",
    "\n",
    "#division\n",
    "div = num1 /num2\n",
    "\n",
    "print(f\"Addtion of Two Number is {add}\")\n",
    "print(f\"Subtraction of Two Number is {Sub}\")\n",
    "print(f\"Multiplication of Two Number is {mult}\")\n",
    "print(f\"Division of Two Number is {div}\")"
   ]
  },
  {
   "cell_type": "code",
   "execution_count": null,
   "metadata": {},
   "outputs": [],
   "source": []
  }
 ],
 "metadata": {
  "kernelspec": {
   "display_name": "Python 3",
   "language": "python",
   "name": "python3"
  },
  "language_info": {
   "codemirror_mode": {
    "name": "ipython",
    "version": 3
   },
   "file_extension": ".py",
   "mimetype": "text/x-python",
   "name": "python",
   "nbconvert_exporter": "python",
   "pygments_lexer": "ipython3",
   "version": "3.8.2"
  }
 },
 "nbformat": 4,
 "nbformat_minor": 4
}
